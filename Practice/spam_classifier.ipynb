{
 "cells": [
  {
   "cell_type": "code",
   "execution_count": 44,
   "metadata": {
    "ExecuteTime": {
     "end_time": "2019-02-28T07:33:31.619335Z",
     "start_time": "2019-02-28T07:33:31.615102Z"
    }
   },
   "outputs": [],
   "source": [
    "import numpy as np\n",
    "from collections import Counter\n",
    "from math import log10 as log\n",
    "import numpy as np\n",
    "from os import listdir\n",
    "from os.path import join\n",
    "from spam_word import word as spam_word\n",
    "from functools import reduce"
   ]
  },
  {
   "cell_type": "code",
   "execution_count": 45,
   "metadata": {
    "ExecuteTime": {
     "end_time": "2019-02-28T07:33:31.807450Z",
     "start_time": "2019-02-28T07:33:31.791278Z"
    }
   },
   "outputs": [],
   "source": [
    "def find_probability_in_spam():\n",
    "    spam_word_set = set(spam_word)\n",
    "    probability = {i:0 for i in spam_word_set}\n",
    "    spam_file_name = listdir(\"spam\")\n",
    "    spam_files = len(spam_file_name)\n",
    "    for file_name in spam_file_name:\n",
    "        file_name = join(\"spam\", file_name)\n",
    "        file = open(file_name, \"rb\").read().decode(errors=\"ignore\")\n",
    "        file_data = dict(Counter(file.replace(\"\\n\",\" \").lower().split(\" \")))\n",
    "        spam_word_in_mail = list(set(file_data.keys()) & spam_word_set)\n",
    "        for word in spam_word_in_mail:\n",
    "            probability[word] += file_data[word]/spam_files\n",
    "    return probability  "
   ]
  },
  {
   "cell_type": "code",
   "execution_count": 46,
   "metadata": {
    "ExecuteTime": {
     "end_time": "2019-02-28T07:33:32.015491Z",
     "start_time": "2019-02-28T07:33:32.006106Z"
    }
   },
   "outputs": [],
   "source": [
    "def find_probability_in_ham():\n",
    "    spam_word_set = set(spam_word)\n",
    "    probability = {i:0 for i in spam_word_set}\n",
    "    spam_file_name = listdir(\"ham\")\n",
    "    spam_files = len(spam_file_name)\n",
    "    for file_name in spam_file_name:\n",
    "        file_name = join(\"ham\", file_name)\n",
    "        file = open(file_name, \"rb\").read().decode(errors=\"ignore\")\n",
    "        file_data = dict(Counter(file.replace(\"\\n\",\" \").lower().split(\" \")))\n",
    "        spam_word_in_mail = list(set(file_data.keys()) & spam_word_set)\n",
    "        for word in spam_word_in_mail:\n",
    "            probability[word] += file_data[word]/spam_files\n",
    "    return probability  "
   ]
  },
  {
   "cell_type": "code",
   "execution_count": 47,
   "metadata": {
    "ExecuteTime": {
     "end_time": "2019-02-28T07:33:35.008138Z",
     "start_time": "2019-02-28T07:33:32.159929Z"
    }
   },
   "outputs": [],
   "source": [
    "spam_prob = find_probability_in_spam()\n",
    "ham_prob = find_probability_in_ham()"
   ]
  },
  {
   "cell_type": "code",
   "execution_count": 48,
   "metadata": {
    "ExecuteTime": {
     "end_time": "2019-02-28T07:33:35.013602Z",
     "start_time": "2019-02-28T07:33:35.009792Z"
    }
   },
   "outputs": [],
   "source": [
    "likelihoods_spam = sum(spam_prob.values())\n",
    "likelihoods_ham = sum(ham_prob.values())"
   ]
  },
  {
   "cell_type": "code",
   "execution_count": 49,
   "metadata": {
    "ExecuteTime": {
     "end_time": "2019-02-28T07:33:35.027079Z",
     "start_time": "2019-02-28T07:33:35.015568Z"
    }
   },
   "outputs": [],
   "source": [
    "def check_for_spam(email):\n",
    "    spam_mail,ham_mail = 0,0\n",
    "    mail_prob = dict(Counter(email.replace(\"\\n\",\" \").lower().split(\" \"))).keys()\n",
    "    #check for spam\n",
    "    for i in spam_prob:\n",
    "        if i in mail_prob:\n",
    "            spam_mail += log(spam_prob[i])\n",
    "        else:\n",
    "            spam_mail += log((1-spam_prob[i]))\n",
    "    #check for ham\n",
    "    for i in spam_prob:\n",
    "        if i in mail_prob:\n",
    "            ham_mail += log(ham_prob[i])\n",
    "        else:\n",
    "            ham_mail += log((1 - ham_prob[i]))\n",
    "    spam_mail += log(likelihoods_spam)\n",
    "    ham_mail += log(likelihoods_ham)\n",
    "    print(spam_mail,ham_mail)\n",
    "    return \"spam\" if spam_mail>ham_mail else \"ham\"\n",
    "    \n",
    "    "
   ]
  },
  {
   "cell_type": "code",
   "execution_count": 59,
   "metadata": {
    "ExecuteTime": {
     "end_time": "2019-02-28T08:27:14.474211Z",
     "start_time": "2019-02-28T08:27:14.467083Z"
    }
   },
   "outputs": [
    {
     "name": "stdout",
     "output_type": "stream",
     "text": [
      "-3.556197054357294 -4.622478442709335\n"
     ]
    },
    {
     "data": {
      "text/plain": [
       "'spam'"
      ]
     },
     "execution_count": 59,
     "metadata": {},
     "output_type": "execute_result"
    }
   ],
   "source": [
    "# spam_file_name = listdir(\"spam\")\n",
    "# result = []\n",
    "# for file_name in spam_file_name:\n",
    "#     file_name = join(\"spam\", file_name)\n",
    "#     file = open(file_name, \"rb\").read().decode(errors=\"ignore\")\n",
    "#     result.append(check_for_spam(file))\n",
    "# print(Counter(result))\n",
    "check_for_spam(\"\"\"Introducing the Frapp Wallet!\n",
    "\n",
    "Hey Ashvini Jangid,\n",
    "\n",
    "We launched Missions on Frapp last year and the response has been amazing!\n",
    "\n",
    "Students like you have earned a total of over Rs. 50,00,000 in the form of cash and rewards such as mobile phones, movie tickets and merchandise.\n",
    "\n",
    " \n",
    "\n",
    "We received feedback to improve the payment system and have been working hard to make the experience of earning money via Missions more seamless, fast and secure.\n",
    "\n",
    "Image\n",
    "We are proud to bring to you the brand new Frapp Missions Wallet!  \n",
    "\n",
    "With the Frapp Missions Wallet, you can:\n",
    "- Receive money from Missions directly in your wallet \n",
    "- Withdraw your money using 3 different options\n",
    "- Track your transaction history \n",
    "\n",
    "This new feature is our first step in improving the Missions experience for our students and will be followed up with various improvements and updates over the next few months.\n",
    "\n",
    "DOWNLOAD FRAPP\n",
    "We hope you're enjoying completing Missions on Frapp and look forward to bringing you many more opportunities.\n",
    "\n",
    " \n",
    "\n",
    "Best Wishes,\n",
    "Armaan Vananchal\n",
    "Cofounder\n",
    "Frapp\n",
    "\n",
    "Copyright @ 2018 Wynaut Webventures Pvt Ltd\n",
    "Unsubscribe\"\"\")"
   ]
  },
  {
   "cell_type": "code",
   "execution_count": null,
   "metadata": {},
   "outputs": [],
   "source": []
  },
  {
   "cell_type": "code",
   "execution_count": null,
   "metadata": {},
   "outputs": [],
   "source": []
  }
 ],
 "metadata": {
  "kernelspec": {
   "display_name": "Python 3",
   "language": "python",
   "name": "python3"
  },
  "language_info": {
   "codemirror_mode": {
    "name": "ipython",
    "version": 3
   },
   "file_extension": ".py",
   "mimetype": "text/x-python",
   "name": "python",
   "nbconvert_exporter": "python",
   "pygments_lexer": "ipython3",
   "version": "3.6.8"
  }
 },
 "nbformat": 4,
 "nbformat_minor": 2
}
