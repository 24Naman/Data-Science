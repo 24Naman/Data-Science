{
 "cells": [
  {
   "cell_type": "code",
   "execution_count": 1,
   "metadata": {
    "ExecuteTime": {
     "end_time": "2019-05-17T03:32:14.531978Z",
     "start_time": "2019-05-17T03:32:14.214753Z"
    }
   },
   "outputs": [],
   "source": [
    "from numpy import genfromtxt, array\n",
    "from matplotlib import pyplot as plt"
   ]
  },
  {
   "cell_type": "code",
   "execution_count": 9,
   "metadata": {
    "ExecuteTime": {
     "end_time": "2019-05-17T05:36:14.991515Z",
     "start_time": "2019-05-17T05:36:14.986591Z"
    }
   },
   "outputs": [],
   "source": [
    "# y = mx + b\n",
    "# m is slope, b is y-intercept\n",
    "\n",
    "\n",
    "def error_function(b, m, points):\n",
    "    total_error = 0\n",
    "\n",
    "    for point in points:\n",
    "        x, y = point\n",
    "        total_error += (y - (m * x + b)) ** 2\n",
    "\n",
    "    return total_error / float(len(points))"
   ]
  },
  {
   "cell_type": "code",
   "execution_count": 3,
   "metadata": {
    "ExecuteTime": {
     "end_time": "2019-05-17T03:32:14.637375Z",
     "start_time": "2019-05-17T03:32:14.546867Z"
    }
   },
   "outputs": [],
   "source": [
    "def gradient_descent(b_current, m_current, points, learning_rate):\n",
    "    b_gradient = 0\n",
    "    m_gradient = 0\n",
    "    n = float(len(points))\n",
    "\n",
    "    for point in points:\n",
    "        x, y = point\n",
    "        b_gradient += -(2 / n) * (y - (m_current * x + b_currentt))\n",
    "        m_gradient += -(2 / n) * (y - (m_current * x + b_current)) * x\n",
    "\n",
    "    new_b = b_current - (learning_rate * b_gradient)\n",
    "    new_m = m_current - (learning_rate * m_gradient)\n",
    "    \n",
    "    return new_b, new_m"
   ]
  },
  {
   "cell_type": "code",
   "execution_count": 4,
   "metadata": {
    "ExecuteTime": {
     "end_time": "2019-05-17T03:32:14.715037Z",
     "start_time": "2019-05-17T03:32:14.642569Z"
    }
   },
   "outputs": [],
   "source": [
    "def gradient_descent_runner(points, starting_b, starting_m, learning_rate,\n",
    "                            num_iterations):\n",
    "    b = starting_b\n",
    "    m = starting_m\n",
    "    cost_array = list()\n",
    "    \n",
    "    for i in range(num_iterations):\n",
    "        if i % 1_00_000 == 0:\n",
    "            print(f\"{i} Iterations Completed with cost = {error_function(b, m, points)}\")\n",
    "        \n",
    "        b, m = gradient_descent(b, m, array(points), learning_rate)\n",
    "        cost_array.append(error_function(b, m, points))\n",
    "        \n",
    "    print()\n",
    "    \n",
    "    return m, b"
   ]
  },
  {
   "cell_type": "code",
   "execution_count": 7,
   "metadata": {
    "ExecuteTime": {
     "end_time": "2019-05-17T03:32:15.256490Z",
     "start_time": "2019-05-17T03:32:14.903545Z"
    }
   },
   "outputs": [
    {
     "data": {
      "image/png": "[encoded data removed]",
      "text/plain": [
       "<Figure size 432x288 with 1 Axes>"
      ]
     },
     "metadata": {
      "needs_background": "light"
     },
     "output_type": "display_data"
    }
   ],
   "source": [
    "points = genfromtxt(\"data.csv\", delimiter=\",\")\n",
    "\n",
    "x = [i[0] for i in points]\n",
    "y = [i[1] for i in points]\n",
    "\n",
    "plt.scatter(x, y)\n",
    "plt.show()"
   ]
  },
  {
   "cell_type": "code",
   "execution_count": 8,
   "metadata": {
    "ExecuteTime": {
     "end_time": "2019-05-17T03:40:22.845246Z",
     "start_time": "2019-05-17T03:32:15.260793Z"
    }
   },
   "outputs": [
    {
     "name": "stdout",
     "output_type": "stream",
     "text": [
      "Running Gradient Descent...\n",
      "0 Iterations Completed with cost = 5565.107834483211\n",
      "100000 Iterations Completed with cost = 110.7863192974508\n",
      "200000 Iterations Completed with cost = 110.37428275695636\n",
      "300000 Iterations Completed with cost = 110.28321919782601\n",
      "400000 Iterations Completed with cost = 110.26309338133518\n",
      "500000 Iterations Completed with cost = 110.25864540573127\n",
      "600000 Iterations Completed with cost = 110.25766236551617\n",
      "700000 Iterations Completed with cost = 110.25744510531715\n",
      "800000 Iterations Completed with cost = 110.2573970889763\n",
      "900000 Iterations Completed with cost = 110.25738647695898\n",
      "\n",
      "After 1000000 iterations b = 7.986822773189421, m = 1.3225135372757009, error = 110.25738413161343\n"
     ]
    },
    {
     "data": {
      "image/png": "[encoded data removed]",
      "text/plain": [
       "<Figure size 432x288 with 1 Axes>"
      ]
     },
     "metadata": {
      "needs_background": "light"
     },
     "output_type": "display_data"
    }
   ],
   "source": [
    "# Gradient Descent\n",
    "\n",
    "learning_rate = 0.0001\n",
    "initial_m = 0\n",
    "initial_bias = 0\n",
    "num_iterations = 1_00_00_00  # One Million\n",
    "\n",
    "print(\"Running Gradient Descent...\")\n",
    "\n",
    "m, bias = gradient_descent_runner(points, initial_bias, initial_m,\n",
    "                                  learning_rate, num_iterations)\n",
    "\n",
    "print(\n",
    "    f\"After {num_iterations} iterations b = {bias}, m = {m}, error = {error_function(bias, m, points)}\"\n",
    ")\n",
    "\n",
    "plt.scatter(x, y)\n",
    "plt.plot(x, [m * x_i + bias for x_i in x])\n",
    "plt.show()"
   ]
  }
 ],
 "metadata": {
  "kernelspec": {
   "display_name": "Python 3",
   "language": "python",
   "name": "python3"
  },
  "language_info": {
   "codemirror_mode": {
    "name": "ipython",
    "version": 3
   },
   "file_extension": ".py",
   "mimetype": "text/x-python",
   "name": "python",
   "nbconvert_exporter": "python",
   "pygments_lexer": "ipython3",
   "version": "3.6.7"
  }
 },
 "nbformat": 4,
 "nbformat_minor": 2
}
