{
 "cells": [
  {
   "cell_type": "code",
   "execution_count": 1,
   "metadata": {
    "ExecuteTime": {
     "end_time": "2019-03-05T09:23:55.626640Z",
     "start_time": "2019-03-05T09:23:55.364185Z"
    }
   },
   "outputs": [],
   "source": [
    "import numpy as np\n",
    "import matplotlib.pyplot as plt\n",
    "from mpl_toolkits.mplot3d import Axes3D\n",
    "plt.style.use(\"ggplot\")\n",
    "%matplotlib qt"
   ]
  },
  {
   "cell_type": "code",
   "execution_count": 2,
   "metadata": {
    "ExecuteTime": {
     "end_time": "2019-03-05T09:23:55.630043Z",
     "start_time": "2019-03-05T09:23:55.628060Z"
    }
   },
   "outputs": [],
   "source": [
    "def hypothysis(x,weight):\n",
    "    return x.T@weight"
   ]
  },
  {
   "cell_type": "code",
   "execution_count": 3,
   "metadata": {
    "ExecuteTime": {
     "end_time": "2019-03-05T09:23:55.641290Z",
     "start_time": "2019-03-05T09:23:55.632458Z"
    }
   },
   "outputs": [],
   "source": [
    "def sigmod(z):\n",
    "    return 1/(1 + np.exp(-z))"
   ]
  },
  {
   "cell_type": "code",
   "execution_count": 4,
   "metadata": {
    "ExecuteTime": {
     "end_time": "2019-03-05T09:23:55.652826Z",
     "start_time": "2019-03-05T09:23:55.643337Z"
    }
   },
   "outputs": [],
   "source": [
    "def gradient_decent(x,y,y_cap,alpha = 0.001):\n",
    "    return alpha*(x@(y_cap - y).T)/len(y)"
   ]
  },
  {
   "cell_type": "code",
   "execution_count": 5,
   "metadata": {
    "ExecuteTime": {
     "end_time": "2019-03-05T09:23:55.664516Z",
     "start_time": "2019-03-05T09:23:55.654381Z"
    }
   },
   "outputs": [],
   "source": [
    "def error_function(y,y_cap):\n",
    "    error = (-y*np.log(y_cap)-(1-y)*np.log(1-y_cap)).mean()\n",
    "    return error"
   ]
  },
  {
   "cell_type": "code",
   "execution_count": 6,
   "metadata": {
    "ExecuteTime": {
     "end_time": "2019-03-05T09:23:55.676221Z",
     "start_time": "2019-03-05T09:23:55.665989Z"
    }
   },
   "outputs": [],
   "source": [
    "def minimize(x,y,weight):\n",
    "    for i in range(100000):\n",
    "        Y = hypothysis(x,weight)\n",
    "        y_cap = sigmod(Y)\n",
    "        error = error_function(y,y_cap)   \n",
    "        weight = weight - gradient_decent(x,y,y_cap)\n",
    "    return weight,error"
   ]
  },
  {
   "cell_type": "code",
   "execution_count": 7,
   "metadata": {
    "ExecuteTime": {
     "end_time": "2019-03-05T09:23:55.687580Z",
     "start_time": "2019-03-05T09:23:55.678008Z"
    }
   },
   "outputs": [],
   "source": [
    "x = np.array([[1,1,1,1],[0,0,1,1],[0,1,0,1]])\n",
    "y = np.array([0,0,0,1])\n",
    "weight = np.array([1,1,1])"
   ]
  },
  {
   "cell_type": "code",
   "execution_count": 8,
   "metadata": {
    "ExecuteTime": {
     "end_time": "2019-03-05T09:23:57.693052Z",
     "start_time": "2019-03-05T09:23:55.689605Z"
    }
   },
   "outputs": [
    {
     "data": {
      "text/plain": [
       "array([-4.84058957,  3.08317063,  3.08317063])"
      ]
     },
     "execution_count": 8,
     "metadata": {},
     "output_type": "execute_result"
    }
   ],
   "source": [
    "or_weight,error = minimize(x,y,weight)\n",
    "or_weight"
   ]
  },
  {
   "cell_type": "code",
   "execution_count": 9,
   "metadata": {
    "ExecuteTime": {
     "end_time": "2019-03-05T09:23:57.697409Z",
     "start_time": "2019-03-05T09:23:57.694490Z"
    }
   },
   "outputs": [],
   "source": [
    "def Or(x0,x1):\n",
    "    z = sigmod(hypothysis(np.array([1,x0,x1]),or_weight))\n",
    "    print(\"Or weight is \", or_weight)\n",
    "    print(\"OR sigmoid is \", z)\n",
    "    return z"
   ]
  },
  {
   "cell_type": "code",
   "execution_count": 10,
   "metadata": {
    "ExecuteTime": {
     "end_time": "2019-03-05T09:23:57.709984Z",
     "start_time": "2019-03-05T09:23:57.700163Z"
    }
   },
   "outputs": [],
   "source": [
    "y = sigmod(hypothysis(x,or_weight))"
   ]
  },
  {
   "cell_type": "code",
   "execution_count": 11,
   "metadata": {
    "ExecuteTime": {
     "end_time": "2019-03-05T09:23:57.726890Z",
     "start_time": "2019-03-05T09:23:57.711474Z"
    }
   },
   "outputs": [
    {
     "name": "stdout",
     "output_type": "stream",
     "text": [
      "Or weight is  [-4.84058957  3.08317063  3.08317063]\n",
      "OR sigmoid is  0.14711389503914338\n"
     ]
    }
   ],
   "source": [
    "# fig = plt.figure(figsize=(5,5),dpi=200)\n",
    "# ax = fig.add_subplot(111, projection='3d')\n",
    "# ax.plot_trisurf(x[1],x[2],y)\n",
    "\n",
    "or_x1 = 0.2\n",
    "or_x2 = 0.8\n",
    "or_y = Or(or_x1,or_x2)\n",
    "\n",
    "# ax.scatter(or_x1,or_x2,or_y,s=100)\n",
    "# plt.pause(20)"
   ]
  },
  {
   "cell_type": "code",
   "execution_count": null,
   "metadata": {},
   "outputs": [],
   "source": []
  },
  {
   "cell_type": "code",
   "execution_count": null,
   "metadata": {},
   "outputs": [],
   "source": []
  }
 ],
 "metadata": {
  "kernelspec": {
   "display_name": "Python 3",
   "language": "python",
   "name": "python3"
  },
  "language_info": {
   "codemirror_mode": {
    "name": "ipython",
    "version": 3
   },
   "file_extension": ".py",
   "mimetype": "text/x-python",
   "name": "python",
   "nbconvert_exporter": "python",
   "pygments_lexer": "ipython3",
   "version": "3.6.8"
  }
 },
 "nbformat": 4,
 "nbformat_minor": 2
}
