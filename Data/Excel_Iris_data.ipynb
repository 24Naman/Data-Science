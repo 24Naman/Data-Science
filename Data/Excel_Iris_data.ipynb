{
 "cells": [
  {
   "cell_type": "code",
   "execution_count": 1,
   "metadata": {},
   "outputs": [],
   "source": [
    "import itertools\n",
    "from sklearn.datasets import load_iris\n",
    "from openpyxl import Workbook, load_workbook\n",
    "from openpyxl.styles import PatternFill"
   ]
  },
  {
   "cell_type": "code",
   "execution_count": 15,
   "metadata": {},
   "outputs": [
    {
     "data": {
      "text/plain": [
       "['Alias',\n",
       " 'Color',\n",
       " 'ColorDescriptor',\n",
       " 'DEFAULT_EMPTY_FILL',\n",
       " 'DEFAULT_GRAY_FILL',\n",
       " 'Element',\n",
       " 'FILL_NONE',\n",
       " 'FILL_PATTERN_DARKDOWN',\n",
       " 'FILL_PATTERN_DARKGRAY',\n",
       " 'FILL_PATTERN_DARKGRID',\n",
       " 'FILL_PATTERN_DARKHORIZONTAL',\n",
       " 'FILL_PATTERN_DARKTRELLIS',\n",
       " 'FILL_PATTERN_DARKUP',\n",
       " 'FILL_PATTERN_DARKVERTICAL',\n",
       " 'FILL_PATTERN_GRAY0625',\n",
       " 'FILL_PATTERN_GRAY125',\n",
       " 'FILL_PATTERN_LIGHTDOWN',\n",
       " 'FILL_PATTERN_LIGHTGRAY',\n",
       " 'FILL_PATTERN_LIGHTGRID',\n",
       " 'FILL_PATTERN_LIGHTHORIZONTAL',\n",
       " 'FILL_PATTERN_LIGHTTRELLIS',\n",
       " 'FILL_PATTERN_LIGHTUP',\n",
       " 'FILL_PATTERN_LIGHTVERTICAL',\n",
       " 'FILL_PATTERN_MEDIUMGRAY',\n",
       " 'FILL_SOLID',\n",
       " 'Fill',\n",
       " 'Float',\n",
       " 'GradientFill',\n",
       " 'Integer',\n",
       " 'MinMax',\n",
       " 'NoneSet',\n",
       " 'PatternFill',\n",
       " 'SHEET_MAIN_NS',\n",
       " 'Sequence',\n",
       " 'Serialisable',\n",
       " 'Set',\n",
       " 'Stop',\n",
       " 'StopList',\n",
       " '__builtins__',\n",
       " '__cached__',\n",
       " '__doc__',\n",
       " '__file__',\n",
       " '__loader__',\n",
       " '__name__',\n",
       " '__package__',\n",
       " '__spec__',\n",
       " '_assign_position',\n",
       " 'division',\n",
       " 'fills',\n",
       " 'localname',\n",
       " 'safe_string']"
      ]
     },
     "execution_count": 15,
     "metadata": {},
     "output_type": "execute_result"
    }
   ],
   "source": [
    "# openpyxl.styles\n",
    "from openpyxl.styles import fills\n",
    "dir(fills)"
   ]
  },
  {
   "cell_type": "code",
   "execution_count": 2,
   "metadata": {},
   "outputs": [
    {
     "data": {
      "text/plain": [
       "['sepal length (cm)',\n",
       " 'sepal width (cm)',\n",
       " 'petal length (cm)',\n",
       " 'petal width (cm)']"
      ]
     },
     "execution_count": 2,
     "metadata": {},
     "output_type": "execute_result"
    }
   ],
   "source": [
    "iris_data = load_iris()\n",
    "iris_data, iris_columns = iris_data['data'], iris_data['feature_names']\n",
    "iris_columns"
   ]
  },
  {
   "cell_type": "code",
   "execution_count": 3,
   "metadata": {},
   "outputs": [
    {
     "name": "stdout",
     "output_type": "stream",
     "text": [
      "<class 'numpy.ndarray'>\n"
     ]
    }
   ],
   "source": [
    "print(type(iris_data[0]))"
   ]
  },
  {
   "cell_type": "code",
   "execution_count": 4,
   "metadata": {},
   "outputs": [
    {
     "name": "stdout",
     "output_type": "stream",
     "text": [
      "[5.1 3.5 1.4 0.2]\n",
      "[4.9 3.  1.4 0.2]\n",
      "[4.7 3.2 1.3 0.2]\n",
      "[4.6 3.1 1.5 0.2]\n",
      "[5.  3.6 1.4 0.2]\n",
      "[5.4 3.9 1.7 0.4]\n",
      "[4.6 3.4 1.4 0.3]\n",
      "[5.  3.4 1.5 0.2]\n",
      "[4.4 2.9 1.4 0.2]\n",
      "[4.9 3.1 1.5 0.1]\n",
      "[5.4 3.7 1.5 0.2]\n",
      "[4.8 3.4 1.6 0.2]\n",
      "[4.8 3.  1.4 0.1]\n",
      "[4.3 3.  1.1 0.1]\n",
      "[5.8 4.  1.2 0.2]\n",
      "[5.7 4.4 1.5 0.4]\n",
      "[5.4 3.9 1.3 0.4]\n",
      "[5.1 3.5 1.4 0.3]\n",
      "[5.7 3.8 1.7 0.3]\n",
      "[5.1 3.8 1.5 0.3]\n",
      "[5.4 3.4 1.7 0.2]\n",
      "[5.1 3.7 1.5 0.4]\n",
      "[4.6 3.6 1.  0.2]\n",
      "[5.1 3.3 1.7 0.5]\n",
      "[4.8 3.4 1.9 0.2]\n",
      "[5.  3.  1.6 0.2]\n",
      "[5.  3.4 1.6 0.4]\n",
      "[5.2 3.5 1.5 0.2]\n",
      "[5.2 3.4 1.4 0.2]\n",
      "[4.7 3.2 1.6 0.2]\n",
      "[4.8 3.1 1.6 0.2]\n",
      "[5.4 3.4 1.5 0.4]\n",
      "[5.2 4.1 1.5 0.1]\n",
      "[5.5 4.2 1.4 0.2]\n",
      "[4.9 3.1 1.5 0.2]\n",
      "[5.  3.2 1.2 0.2]\n",
      "[5.5 3.5 1.3 0.2]\n",
      "[4.9 3.6 1.4 0.1]\n",
      "[4.4 3.  1.3 0.2]\n",
      "[5.1 3.4 1.5 0.2]\n",
      "[5.  3.5 1.3 0.3]\n",
      "[4.5 2.3 1.3 0.3]\n",
      "[4.4 3.2 1.3 0.2]\n",
      "[5.  3.5 1.6 0.6]\n",
      "[5.1 3.8 1.9 0.4]\n",
      "[4.8 3.  1.4 0.3]\n",
      "[5.1 3.8 1.6 0.2]\n",
      "[4.6 3.2 1.4 0.2]\n",
      "[5.3 3.7 1.5 0.2]\n",
      "[5.  3.3 1.4 0.2]\n",
      "[7.  3.2 4.7 1.4]\n",
      "[6.4 3.2 4.5 1.5]\n",
      "[6.9 3.1 4.9 1.5]\n",
      "[5.5 2.3 4.  1.3]\n",
      "[6.5 2.8 4.6 1.5]\n",
      "[5.7 2.8 4.5 1.3]\n",
      "[6.3 3.3 4.7 1.6]\n",
      "[4.9 2.4 3.3 1. ]\n",
      "[6.6 2.9 4.6 1.3]\n",
      "[5.2 2.7 3.9 1.4]\n",
      "[5.  2.  3.5 1. ]\n",
      "[5.9 3.  4.2 1.5]\n",
      "[6.  2.2 4.  1. ]\n",
      "[6.1 2.9 4.7 1.4]\n",
      "[5.6 2.9 3.6 1.3]\n",
      "[6.7 3.1 4.4 1.4]\n",
      "[5.6 3.  4.5 1.5]\n",
      "[5.8 2.7 4.1 1. ]\n",
      "[6.2 2.2 4.5 1.5]\n",
      "[5.6 2.5 3.9 1.1]\n",
      "[5.9 3.2 4.8 1.8]\n",
      "[6.1 2.8 4.  1.3]\n",
      "[6.3 2.5 4.9 1.5]\n",
      "[6.1 2.8 4.7 1.2]\n",
      "[6.4 2.9 4.3 1.3]\n",
      "[6.6 3.  4.4 1.4]\n",
      "[6.8 2.8 4.8 1.4]\n",
      "[6.7 3.  5.  1.7]\n",
      "[6.  2.9 4.5 1.5]\n",
      "[5.7 2.6 3.5 1. ]\n",
      "[5.5 2.4 3.8 1.1]\n",
      "[5.5 2.4 3.7 1. ]\n",
      "[5.8 2.7 3.9 1.2]\n",
      "[6.  2.7 5.1 1.6]\n",
      "[5.4 3.  4.5 1.5]\n",
      "[6.  3.4 4.5 1.6]\n",
      "[6.7 3.1 4.7 1.5]\n",
      "[6.3 2.3 4.4 1.3]\n",
      "[5.6 3.  4.1 1.3]\n",
      "[5.5 2.5 4.  1.3]\n",
      "[5.5 2.6 4.4 1.2]\n",
      "[6.1 3.  4.6 1.4]\n",
      "[5.8 2.6 4.  1.2]\n",
      "[5.  2.3 3.3 1. ]\n",
      "[5.6 2.7 4.2 1.3]\n",
      "[5.7 3.  4.2 1.2]\n",
      "[5.7 2.9 4.2 1.3]\n",
      "[6.2 2.9 4.3 1.3]\n",
      "[5.1 2.5 3.  1.1]\n",
      "[5.7 2.8 4.1 1.3]\n",
      "[6.3 3.3 6.  2.5]\n",
      "[5.8 2.7 5.1 1.9]\n",
      "[7.1 3.  5.9 2.1]\n",
      "[6.3 2.9 5.6 1.8]\n",
      "[6.5 3.  5.8 2.2]\n",
      "[7.6 3.  6.6 2.1]\n",
      "[4.9 2.5 4.5 1.7]\n",
      "[7.3 2.9 6.3 1.8]\n",
      "[6.7 2.5 5.8 1.8]\n",
      "[7.2 3.6 6.1 2.5]\n",
      "[6.5 3.2 5.1 2. ]\n",
      "[6.4 2.7 5.3 1.9]\n",
      "[6.8 3.  5.5 2.1]\n",
      "[5.7 2.5 5.  2. ]\n",
      "[5.8 2.8 5.1 2.4]\n",
      "[6.4 3.2 5.3 2.3]\n",
      "[6.5 3.  5.5 1.8]\n",
      "[7.7 3.8 6.7 2.2]\n",
      "[7.7 2.6 6.9 2.3]\n",
      "[6.  2.2 5.  1.5]\n",
      "[6.9 3.2 5.7 2.3]\n",
      "[5.6 2.8 4.9 2. ]\n",
      "[7.7 2.8 6.7 2. ]\n",
      "[6.3 2.7 4.9 1.8]\n",
      "[6.7 3.3 5.7 2.1]\n",
      "[7.2 3.2 6.  1.8]\n",
      "[6.2 2.8 4.8 1.8]\n",
      "[6.1 3.  4.9 1.8]\n",
      "[6.4 2.8 5.6 2.1]\n",
      "[7.2 3.  5.8 1.6]\n",
      "[7.4 2.8 6.1 1.9]\n",
      "[7.9 3.8 6.4 2. ]\n",
      "[6.4 2.8 5.6 2.2]\n",
      "[6.3 2.8 5.1 1.5]\n",
      "[6.1 2.6 5.6 1.4]\n",
      "[7.7 3.  6.1 2.3]\n",
      "[6.3 3.4 5.6 2.4]\n",
      "[6.4 3.1 5.5 1.8]\n",
      "[6.  3.  4.8 1.8]\n",
      "[6.9 3.1 5.4 2.1]\n",
      "[6.7 3.1 5.6 2.4]\n",
      "[6.9 3.1 5.1 2.3]\n",
      "[5.8 2.7 5.1 1.9]\n",
      "[6.8 3.2 5.9 2.3]\n",
      "[6.7 3.3 5.7 2.5]\n",
      "[6.7 3.  5.2 2.3]\n",
      "[6.3 2.5 5.  1.9]\n",
      "[6.5 3.  5.2 2. ]\n",
      "[6.2 3.4 5.4 2.3]\n",
      "[5.9 3.  5.1 1.8]\n"
     ]
    }
   ],
   "source": [
    "for data in iris_data:\n",
    "    print(data)"
   ]
  },
  {
   "cell_type": "code",
   "execution_count": 5,
   "metadata": {},
   "outputs": [],
   "source": [
    "workbook = Workbook()\n",
    "worksheet = workbook.active\n",
    "\n",
    "# setting columns names\n",
    "worksheet.append([column.title() for column in iris_columns])"
   ]
  },
  {
   "cell_type": "code",
   "execution_count": 6,
   "metadata": {},
   "outputs": [],
   "source": [
    "# adding data from the iris numpy.ndarray to worksheet\n",
    "for data in iris_data:\n",
    "    worksheet.append(list(data))\n"
   ]
  },
  {
   "cell_type": "code",
   "execution_count": 7,
   "metadata": {},
   "outputs": [],
   "source": [
    "for row in itertools.islice(worksheet.iter_rows(), 1, None):\n",
    "    for cell in row:\n",
    "        if 0 <= int(cell.value) < 1:\n",
    "            cell.fill = PatternFill(fgColor=\"00FFFF\", fill_type=\"solid\")\n",
    "            \n",
    "        elif 1 <= int(cell.value)  < 2:\n",
    "            cell.fill = PatternFill(fgColor=\"FF00FF\", fill_type=\"solid\")\n",
    "            \n",
    "        elif 2 <= int(cell.value) < 3:\n",
    "            cell.fill = PatternFill(fgColor=\"FF0000\", fill_type=\"solid\")\n",
    "            \n",
    "        elif 3 <= int(cell.value) < 4:\n",
    "            cell.fill = PatternFill(fgColor=\"EBE431\", fill_type=\"solid\")\n",
    "            \n",
    "        elif 4 <= int(cell.value) < 5:\n",
    "            cell.fill = PatternFill(fgColor=\"B332EB\", fill_type=\"solid\")\n",
    "            \n",
    "        else:\n",
    "            cell.fill = PatternFill(fgColor=\"FF6F00\", fill_type=\"solid\")"
   ]
  },
  {
   "cell_type": "code",
   "execution_count": 8,
   "metadata": {},
   "outputs": [],
   "source": [
    "try:\n",
    "    workbook.save(\"sample.xlsx\")\n",
    "    \n",
    "except PermissionError:\n",
    "    print(\"Please close file named 'sample.xlsx'\")"
   ]
  },
  {
   "cell_type": "code",
   "execution_count": 9,
   "metadata": {},
   "outputs": [
    {
     "name": "stdout",
     "output_type": "stream",
     "text": [
      "['Sheet']\n"
     ]
    }
   ],
   "source": [
    "# Read Excel\n",
    "workbook = load_workbook(\"sample.xlsx\")\n",
    "print(workbook.sheetnames)"
   ]
  },
  {
   "cell_type": "code",
   "execution_count": 12,
   "metadata": {},
   "outputs": [],
   "source": [
    "worksheet = workbook[\"Sheet\"]"
   ]
  },
  {
   "cell_type": "code",
   "execution_count": 20,
   "metadata": {},
   "outputs": [],
   "source": [
    "for row in itertools.islice(worksheet.iter_rows(), 1, None):\n",
    "    for cell in row:\n",
    "        if 0 <= int(cell.value) < 1:\n",
    "            cell.fill = PatternFill(fgColor=\"00FFFF\", fill_type=fills.FILL_PATTERN_DARKHORIZONTAL)\n",
    "            \n",
    "        elif 1 <= int(cell.value)  < 2:\n",
    "            cell.fill = PatternFill(fgColor=\"FF00FF\", fill_type=fills.FILL_PATTERN_DARKHORIZONTAL)\n",
    "            \n",
    "        elif 2 <= int(cell.value) < 3:\n",
    "            cell.fill = PatternFill(fgColor=\"FF0000\", fill_type=fills.FILL_PATTERN_DARKHORIZONTAL)\n",
    "            \n",
    "        elif 3 <= int(cell.value) < 4:\n",
    "            cell.fill = PatternFill(fgColor=\"EBE431\", fill_type=fills.FILL_PATTERN_DARKHORIZONTAL)\n",
    "            \n",
    "        elif 4 <= int(cell.value) < 5:\n",
    "            cell.fill = PatternFill(fgColor=\"B332EB\", fill_type=fills.FILL_PATTERN_DARKHORIZONTAL)\n",
    "            \n",
    "        else:\n",
    "            cell.fill = PatternFill(fgColor=\"FF6F00\", fill_type=fills.FILL_PATTERN_DARKHORIZONTAL)"
   ]
  },
  {
   "cell_type": "code",
   "execution_count": 21,
   "metadata": {},
   "outputs": [],
   "source": [
    "try:\n",
    "    workbook.save(\"sample.xlsx\")\n",
    "    \n",
    "except PermissionError:\n",
    "    print(\"Please close file named 'sample.xlsx'\")"
   ]
  },
  {
   "cell_type": "code",
   "execution_count": null,
   "metadata": {},
   "outputs": [],
   "source": []
  }
 ],
 "metadata": {
  "kernelspec": {
   "display_name": "Python 3",
   "language": "python",
   "name": "python3"
  },
  "language_info": {
   "codemirror_mode": {
    "name": "ipython",
    "version": 3
   },
   "file_extension": ".py",
   "mimetype": "text/x-python",
   "name": "python",
   "nbconvert_exporter": "python",
   "pygments_lexer": "ipython3",
   "version": "3.7.4"
  }
 },
 "nbformat": 4,
 "nbformat_minor": 2
}
