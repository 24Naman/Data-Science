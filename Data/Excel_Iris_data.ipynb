{
 "cells": [
  {
   "cell_type": "code",
   "execution_count": 1,
   "metadata": {},
   "outputs": [],
   "source": [
    "import itertools\n",
    "from sklearn.datasets import load_iris\n",
    "from openpyxl import Workbook, load_workbook\n",
    "from openpyxl.styles import PatternFill"
   ]
  },
  {
   "cell_type": "code",
   "execution_count": 2,
   "metadata": {},
   "outputs": [
    {
     "data": {
      "text/plain": [
       "['Alias',\n",
       " 'Color',\n",
       " 'ColorDescriptor',\n",
       " 'DEFAULT_EMPTY_FILL',\n",
       " 'DEFAULT_GRAY_FILL',\n",
       " 'Element',\n",
       " 'FILL_NONE',\n",
       " 'FILL_PATTERN_DARKDOWN',\n",
       " 'FILL_PATTERN_DARKGRAY',\n",
       " 'FILL_PATTERN_DARKGRID',\n",
       " 'FILL_PATTERN_DARKHORIZONTAL',\n",
       " 'FILL_PATTERN_DARKTRELLIS',\n",
       " 'FILL_PATTERN_DARKUP',\n",
       " 'FILL_PATTERN_DARKVERTICAL',\n",
       " 'FILL_PATTERN_GRAY0625',\n",
       " 'FILL_PATTERN_GRAY125',\n",
       " 'FILL_PATTERN_LIGHTDOWN',\n",
       " 'FILL_PATTERN_LIGHTGRAY',\n",
       " 'FILL_PATTERN_LIGHTGRID',\n",
       " 'FILL_PATTERN_LIGHTHORIZONTAL',\n",
       " 'FILL_PATTERN_LIGHTTRELLIS',\n",
       " 'FILL_PATTERN_LIGHTUP',\n",
       " 'FILL_PATTERN_LIGHTVERTICAL',\n",
       " 'FILL_PATTERN_MEDIUMGRAY',\n",
       " 'FILL_SOLID',\n",
       " 'Fill',\n",
       " 'Float',\n",
       " 'GradientFill',\n",
       " 'Integer',\n",
       " 'MinMax',\n",
       " 'NoneSet',\n",
       " 'PatternFill',\n",
       " 'SHEET_MAIN_NS',\n",
       " 'Sequence',\n",
       " 'Serialisable',\n",
       " 'Set',\n",
       " 'Stop',\n",
       " 'StopList',\n",
       " '__builtins__',\n",
       " '__cached__',\n",
       " '__doc__',\n",
       " '__file__',\n",
       " '__loader__',\n",
       " '__name__',\n",
       " '__package__',\n",
       " '__spec__',\n",
       " '_assign_position',\n",
       " 'absolute_import',\n",
       " 'division',\n",
       " 'fills',\n",
       " 'localname',\n",
       " 'safe_string']"
      ]
     },
     "execution_count": 2,
     "metadata": {},
     "output_type": "execute_result"
    }
   ],
   "source": [
    "# openpyxl.styles\n",
    "from openpyxl.styles import fills\n",
    "dir(fills)"
   ]
  },
  {
   "cell_type": "code",
   "execution_count": 3,
   "metadata": {},
   "outputs": [
    {
     "name": "stdout",
     "output_type": "stream",
     "text": [
      "<class 'numpy.ndarray'> ['sepal length (cm)', 'sepal width (cm)', 'petal length (cm)', 'petal width (cm)']\n"
     ]
    }
   ],
   "source": [
    "iris_data = load_iris()\n",
    "iris_data, iris_columns = iris_data['data'], iris_data['feature_names']\n",
    "print(type(iris_data[0]), iris_columns)"
   ]
  },
  {
   "cell_type": "code",
   "execution_count": 4,
   "metadata": {},
   "outputs": [
    {
     "name": "stdout",
     "output_type": "stream",
     "text": [
      "[5.1 3.5 1.4 0.2]\n",
      "[4.9 3.  1.4 0.2]\n",
      "[4.7 3.2 1.3 0.2]\n",
      "[4.6 3.1 1.5 0.2]\n",
      "[5.  3.6 1.4 0.2]\n"
     ]
    }
   ],
   "source": [
    "for data in iris_data[:5]:\n",
    "    print(data)"
   ]
  },
  {
   "cell_type": "code",
   "execution_count": 5,
   "metadata": {},
   "outputs": [],
   "source": [
    "workbook = Workbook()\n",
    "worksheet = workbook.active\n",
    "\n",
    "# setting columns names\n",
    "worksheet.append([column.title() for column in iris_columns])\n",
    "worksheet.append(list(map(lambda c: c.title(), iris_columns)))"
   ]
  },
  {
   "cell_type": "code",
   "execution_count": 6,
   "metadata": {},
   "outputs": [
    {
     "name": "stdout",
     "output_type": "stream",
     "text": [
      "(<Cell 'Sheet'.A1>, <Cell 'Sheet'.B1>, <Cell 'Sheet'.C1>, <Cell 'Sheet'.D1>)\n"
     ]
    }
   ],
   "source": [
    "for cell in worksheet['A1': 'D1']:\n",
    "    print(cell)"
   ]
  },
  {
   "cell_type": "code",
   "execution_count": 7,
   "metadata": {},
   "outputs": [],
   "source": [
    "color = \"FF0000\"\n",
    "\n",
    "# Coloring the top row\n",
    "for cell in worksheet['A1':'D1'][0]:\n",
    "    cell.fill = PatternFill(fgColor=color, fill_type=\"solid\")\n"
   ]
  },
  {
   "cell_type": "code",
   "execution_count": 8,
   "metadata": {},
   "outputs": [],
   "source": [
    "# adding data from the iris numpy.ndarray to worksheet\n",
    "for data in iris_data:\n",
    "    worksheet.append(list(data))\n"
   ]
  },
  {
   "cell_type": "code",
   "execution_count": 9,
   "metadata": {},
   "outputs": [],
   "source": [
    "for row in itertools.islice(worksheet.iter_rows(), 1, None):\n",
    "    for cell in row:\n",
    "        if 0 <= int(cell.value) < 1:\n",
    "            cell.fill = PatternFill(fgColor=\"00FFFF\", fill_type=\"solid\")\n",
    "            \n",
    "        elif 1 <= int(cell.value) < 2:\n",
    "            cell.fill = PatternFill(fgColor=\"FF00FF\", fill_type=\"solid\")\n",
    "            \n",
    "        elif 2 <= int(cell.value) < 3:\n",
    "            cell.fill = PatternFill(fgColor=\"FF0000\", fill_type=\"solid\")\n",
    "            \n",
    "        elif 3 <= int(cell.value) < 4:\n",
    "            cell.fill = PatternFill(fgColor=\"EBE431\", fill_type=\"solid\")\n",
    "            \n",
    "        elif 4 <= int(cell.value) < 5:\n",
    "            cell.fill = PatternFill(fgColor=\"B332EB\", fill_type=\"solid\")\n",
    "            \n",
    "        else:\n",
    "            cell.fill = PatternFill(fgColor=\"FF6F00\", fill_type=\"solid\")"
   ]
  },
  {
   "cell_type": "code",
   "execution_count": 10,
   "metadata": {},
   "outputs": [],
   "source": [
    "try:\n",
    "    workbook.save(\"sample.xlsx\")\n",
    "    \n",
    "except PermissionError:\n",
    "    print(\"Please close any file named 'sample.xlsx'\")"
   ]
  },
  {
   "cell_type": "code",
   "execution_count": 11,
   "metadata": {},
   "outputs": [
    {
     "name": "stdout",
     "output_type": "stream",
     "text": [
      "['Sheet']\n"
     ]
    }
   ],
   "source": [
    "# Read Excel\n",
    "workbook = load_workbook(\"sample.xlsx\")\n",
    "print(workbook.sheetnames)"
   ]
  },
  {
   "cell_type": "code",
   "execution_count": 12,
   "metadata": {},
   "outputs": [],
   "source": [
    "worksheet = workbook[\"Sheet\"]"
   ]
  },
  {
   "cell_type": "code",
   "execution_count": 13,
   "metadata": {},
   "outputs": [],
   "source": [
    "for row in itertools.islice(worksheet.iter_rows(), 1, None):\n",
    "    for cell in row:\n",
    "        if 0 <= int(cell.value) < 1:\n",
    "            cell.fill = PatternFill(fgColor=\"00FFFF\", fill_type=fills.FILL_SOLID)\n",
    "            \n",
    "        elif 1 <= int(cell.value)  < 2:\n",
    "            cell.fill = PatternFill(fgColor=\"FF00FF\", fill_type=fills.FILL_SOLID)\n",
    "            \n",
    "        elif 2 <= int(cell.value) < 3:\n",
    "            cell.fill = PatternFill(fgColor=\"FF0000\", fill_type=fills.FILL_SOLID)\n",
    "            \n",
    "        elif 3 <= int(cell.value) < 4:\n",
    "            cell.fill = PatternFill(fgColor=\"EBE431\", fill_type=fills.FILL_SOLID)\n",
    "            \n",
    "        elif 4 <= int(cell.value) < 5:\n",
    "            cell.fill = PatternFill(fgColor=\"B332EB\", fill_type=fills.FILL_SOLID)\n",
    "            \n",
    "        else:\n",
    "            cell.fill = PatternFill(fgColor=\"FF6F00\", fill_type=fills.FILL_SOLID)"
   ]
  },
  {
   "cell_type": "code",
   "execution_count": 14,
   "metadata": {},
   "outputs": [
    {
     "name": "stdout",
     "output_type": "stream",
     "text": [
      "New data saved in the file: iris.xlsx\n"
     ]
    }
   ],
   "source": [
    "try:\n",
    "    new_file = \"iris.xlsx\"\n",
    "    workbook.save(\"iris.xlsx\")\n",
    "    print(f\"New data saved in the file: {new_file}\")\n",
    "    \n",
    "except PermissionError:\n",
    "    print(\"Please close file named 'sample.xlsx'\")"
   ]
  }
 ],
 "metadata": {
  "kernelspec": {
   "display_name": "Python 3",
   "language": "python",
   "name": "python3"
  },
  "language_info": {
   "codemirror_mode": {
    "name": "ipython",
    "version": 3
   },
   "file_extension": ".py",
   "mimetype": "text/x-python",
   "name": "python",
   "nbconvert_exporter": "python",
   "pygments_lexer": "ipython3",
   "version": "3.7.3"
  }
 },
 "nbformat": 4,
 "nbformat_minor": 2
}
