{
 "cells": [
  {
   "cell_type": "code",
   "execution_count": 290,
   "metadata": {
    "ExecuteTime": {
     "end_time": "2019-04-11T19:47:57.107115Z",
     "start_time": "2019-04-11T19:47:57.094345Z"
    }
   },
   "outputs": [],
   "source": [
    "import os\n",
    "import shutil\n",
    "import numpy as np\n",
    "from sklearn.svm import SVC\n",
    "from skimage import feature,data\n",
    "import matplotlib.pyplot as plt\n",
    "from keras.preprocessing.image import ImageDataGenerator,load_img,array_to_img,img_to_array\n",
    "import pandas as pd\n",
    "from skimage.transform import resize\n",
    "import warnings\n",
    "warnings.filterwarnings(\"ignore\")"
   ]
  },
  {
   "cell_type": "code",
   "execution_count": 196,
   "metadata": {
    "ExecuteTime": {
     "end_time": "2019-04-11T19:26:42.510319Z",
     "start_time": "2019-04-11T19:26:42.501350Z"
    }
   },
   "outputs": [],
   "source": [
    "datagen = ImageDataGenerator(\n",
    "    featurewise_center=True,\n",
    "    featurewise_std_normalization=True,\n",
    "    rotation_range=20,\n",
    "    width_shift_range=0.2,\n",
    "    height_shift_range=0.2,\n",
    "    fill_mode='nearest',\n",
    "    horizontal_flip=True)"
   ]
  },
  {
   "cell_type": "code",
   "execution_count": 550,
   "metadata": {
    "ExecuteTime": {
     "end_time": "2019-04-11T20:03:59.637099Z",
     "start_time": "2019-04-11T20:03:59.613616Z"
    }
   },
   "outputs": [],
   "source": [
    "Class = [\"cat\", \"dog\"]\n",
    "\n",
    "def generate_image(nums):\n",
    "    for animal in Class:\n",
    "        img = load_img(f'images/{animal}.jpg')\n",
    "        x = img_to_array(img)\n",
    "        x = x.reshape((1,) + x.shape)\n",
    "        dir_name = f\"temp_{animal}\"\n",
    "        if not os.path.isdir(dir_name):\n",
    "            os.mkdir(dir_name)\n",
    "        else:\n",
    "            shutil.rmtree(dir_name)\n",
    "            os.mkdir(dir_name)\n",
    "        for _ in range(nums):\n",
    "            next(datagen.flow(x, batch_size=1, save_to_dir=dir_name,\n",
    "                              save_prefix=animal, save_format='jpeg'))\n",
    "            \n",
    "            \n",
    "def get_feature(file):\n",
    "    img = data.imread(file,as_grey=True)\n",
    "    if img.shape != (100, 100):\n",
    "        img = resize(img, (100,100), anti_aliasing=True)\n",
    "    edges = feature.canny(img, sigma=3).reshape(-1)\n",
    "    return edges\n",
    "    \n",
    "def generate_feature(nums):\n",
    "    generate_image(nums)\n",
    "    X,Y=[],[]\n",
    "    for animal in Class:\n",
    "        dir_name = f\"temp_{animal}\"\n",
    "        for images in os.listdir(dir_name):\n",
    "            edges= get_feature(os.path.join(dir_name, images))\n",
    "            X.append(edges)\n",
    "            Y.append(animal)\n",
    "    return X,Y\n",
    "\n",
    "\n",
    "def remove_temp_data():\n",
    "    for animal in Class:\n",
    "        dir_name = f\"temp_{animal}\"\n",
    "        shutil.rmtree(dir_name)\n",
    "        \n",
    "\n",
    "# the image will created dynamiclly\n",
    "def train_model(num_of_images):\n",
    "    x,y = generate_feature(num_of_images)\n",
    "    model = SVC(kernel=\"rbf\",C=1e6)\n",
    "    model.fit(x,y)\n",
    "    remove_temp_data()\n",
    "    return model"
   ]
  },
  {
   "cell_type": "code",
   "execution_count": 555,
   "metadata": {
    "ExecuteTime": {
     "end_time": "2019-04-11T20:04:05.199461Z",
     "start_time": "2019-04-11T20:04:03.488203Z"
    }
   },
   "outputs": [],
   "source": [
    "model = train_model(100)"
   ]
  },
  {
   "cell_type": "code",
   "execution_count": 556,
   "metadata": {
    "ExecuteTime": {
     "end_time": "2019-04-11T20:04:05.345577Z",
     "start_time": "2019-04-11T20:04:05.201237Z"
    }
   },
   "outputs": [],
   "source": [
    "test_cat = get_feature(\"images/test_cat.png\")\n",
    "test_dog = get_feature(\"images/test_dog.jpg\")"
   ]
  },
  {
   "cell_type": "code",
   "execution_count": 557,
   "metadata": {
    "ExecuteTime": {
     "end_time": "2019-04-11T20:04:05.356899Z",
     "start_time": "2019-04-11T20:04:05.347793Z"
    }
   },
   "outputs": [
    {
     "data": {
      "text/plain": [
       "array(['cat'], dtype='<U3')"
      ]
     },
     "execution_count": 557,
     "metadata": {},
     "output_type": "execute_result"
    }
   ],
   "source": [
    "model.predict([test_cat])"
   ]
  },
  {
   "cell_type": "code",
   "execution_count": 558,
   "metadata": {
    "ExecuteTime": {
     "end_time": "2019-04-11T20:04:05.369222Z",
     "start_time": "2019-04-11T20:04:05.359665Z"
    }
   },
   "outputs": [
    {
     "data": {
      "text/plain": [
       "array(['dog'], dtype='<U3')"
      ]
     },
     "execution_count": 558,
     "metadata": {},
     "output_type": "execute_result"
    }
   ],
   "source": [
    "model.predict([test_dog])"
   ]
  }
 ],
 "metadata": {
  "kernelspec": {
   "display_name": "Python 3",
   "language": "python",
   "name": "python3"
  },
  "language_info": {
   "codemirror_mode": {
    "name": "ipython",
    "version": 3
   },
   "file_extension": ".py",
   "mimetype": "text/x-python",
   "name": "python",
   "nbconvert_exporter": "python",
   "pygments_lexer": "ipython3",
   "version": "3.6.8"
  }
 },
 "nbformat": 4,
 "nbformat_minor": 2
}
