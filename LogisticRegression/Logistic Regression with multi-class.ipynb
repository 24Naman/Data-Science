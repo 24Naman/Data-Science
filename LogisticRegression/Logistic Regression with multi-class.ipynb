{
 "cells": [
  {
   "cell_type": "markdown",
   "metadata": {
    "slideshow": {
     "slide_type": "slide"
    }
   },
   "source": [
    "## Iris Data classification with Logostic Regression"
   ]
  },
  {
   "cell_type": "code",
   "execution_count": 160,
   "metadata": {
    "ExecuteTime": {
     "end_time": "2019-04-06T06:49:49.293466Z",
     "start_time": "2019-04-06T06:49:49.287142Z"
    }
   },
   "outputs": [],
   "source": [
    "import numpy as np\n",
    "import pandas as pd\n",
    "import matplotlib.pyplot as plt\n",
    "from sklearn.datasets import load_iris\n",
    "import operator\n",
    "import time\n",
    "import warnings\n",
    "warnings.filterwarnings(\"ignore\")\n",
    "%matplotlib inline"
   ]
  },
  {
   "cell_type": "markdown",
   "metadata": {},
   "source": [
    "## Load data"
   ]
  },
  {
   "cell_type": "code",
   "execution_count": 177,
   "metadata": {
    "ExecuteTime": {
     "end_time": "2019-04-06T14:24:38.138826Z",
     "start_time": "2019-04-06T14:24:38.130116Z"
    }
   },
   "outputs": [],
   "source": [
    "data = load_iris()\n",
    "X = data[\"data\"]\n",
    "Y = data[\"target\"]\n",
    "X = np.array([np.append(i, 1) for i in X])"
   ]
  },
  {
   "cell_type": "code",
   "execution_count": 178,
   "metadata": {
    "ExecuteTime": {
     "end_time": "2019-04-06T14:24:38.369843Z",
     "start_time": "2019-04-06T14:24:38.365394Z"
    }
   },
   "outputs": [],
   "source": [
    "def hypothysis(x, weight):\n",
    "    return np.array(np.dot(x, weight)).astype((np.float64))"
   ]
  },
  {
   "cell_type": "code",
   "execution_count": 197,
   "metadata": {
    "ExecuteTime": {
     "end_time": "2019-04-07T06:59:16.817573Z",
     "start_time": "2019-04-07T06:59:16.814653Z"
    }
   },
   "outputs": [],
   "source": [
    "def sigmoid(Z):\n",
    "    return 1 / (1 + np.exp(-Z))"
   ]
  },
  {
   "cell_type": "markdown",
   "metadata": {},
   "source": [
    "### Use softmax for multi-class"
   ]
  },
  {
   "cell_type": "code",
   "execution_count": 198,
   "metadata": {
    "ExecuteTime": {
     "end_time": "2019-04-07T06:59:17.296661Z",
     "start_time": "2019-04-07T06:59:17.292902Z"
    }
   },
   "outputs": [],
   "source": [
    "def softmax(Z):\n",
    "    value = np.exp(Z) / sum(np.exp(Z))\n",
    "    return value"
   ]
  },
  {
   "cell_type": "code",
   "execution_count": 199,
   "metadata": {
    "ExecuteTime": {
     "end_time": "2019-04-07T06:59:17.519179Z",
     "start_time": "2019-04-07T06:59:17.515440Z"
    }
   },
   "outputs": [],
   "source": [
    "def gradient_decent(x, y, weight, alpha=0.1):\n",
    "    Y_cap = hypothysis(x, weight)\n",
    "    S_cap = sigmoid(Y_cap)\n",
    "    weight = weight - alpha*np.dot((S_cap - y), x)/len(y)\n",
    "    return weight"
   ]
  },
  {
   "cell_type": "code",
   "execution_count": 200,
   "metadata": {
    "ExecuteTime": {
     "end_time": "2019-04-07T06:59:17.776043Z",
     "start_time": "2019-04-07T06:59:17.770986Z"
    }
   },
   "outputs": [],
   "source": [
    "def fit(x, y):\n",
    "    weight = np.zeros(len(X[0]))\n",
    "    for i in np.arange(1,0.001,-0.0001):\n",
    "        weight = gradient_decent(x, y, weight,i)\n",
    "    return weight"
   ]
  },
  {
   "cell_type": "markdown",
   "metadata": {},
   "source": [
    "###  get_class is one vs all spliter\n",
    "###  train_for_each Train model with each class"
   ]
  },
  {
   "cell_type": "code",
   "execution_count": 201,
   "metadata": {
    "ExecuteTime": {
     "end_time": "2019-04-07T06:59:18.240737Z",
     "start_time": "2019-04-07T06:59:18.233187Z"
    }
   },
   "outputs": [],
   "source": [
    "def get_data(cls):\n",
    "    x, y = [], []\n",
    "    for i, j in zip(X, Y):\n",
    "        if j == cls:\n",
    "            j = 1\n",
    "        else:\n",
    "            j = 0\n",
    "        x.append(i)\n",
    "        y.append(j)\n",
    "    return x, y\n",
    "\n",
    "\n",
    "def train_for_each_class():\n",
    "    classes = [0, 1, 2]\n",
    "    weights = dict()\n",
    "    for i in classes:\n",
    "        x, y = get_data(i)\n",
    "        weights[i] = fit(x, y)\n",
    "    return weights"
   ]
  },
  {
   "cell_type": "code",
   "execution_count": 202,
   "metadata": {
    "ExecuteTime": {
     "end_time": "2019-04-07T06:59:21.932509Z",
     "start_time": "2019-04-07T06:59:18.463739Z"
    }
   },
   "outputs": [],
   "source": [
    "weights = train_for_each_class()"
   ]
  },
  {
   "cell_type": "markdown",
   "metadata": {},
   "source": [
    "#### test all data and show where is error"
   ]
  },
  {
   "cell_type": "code",
   "execution_count": 203,
   "metadata": {
    "ExecuteTime": {
     "end_time": "2019-04-07T06:59:21.940133Z",
     "start_time": "2019-04-07T06:59:21.934053Z"
    }
   },
   "outputs": [],
   "source": [
    "\n",
    "def test():\n",
    "    for i, data in enumerate(zip(X, Y)):\n",
    "        x, y = data\n",
    "        values = []\n",
    "        for i in weights:\n",
    "            values.append(hypothysis(x, weights[i]))\n",
    "        index, v = max(enumerate(softmax(values)), key=operator.itemgetter(1))\n",
    "        \n",
    "        if y != index:\n",
    "            print(\"Error =>\", x, \"Actual=>\", y, \"Predict =>\", index)\n",
    "    print(\"Accuracy\",100 - 3/150*100)\n",
    "            "
   ]
  },
  {
   "cell_type": "code",
   "execution_count": 204,
   "metadata": {
    "ExecuteTime": {
     "end_time": "2019-04-07T06:59:21.979955Z",
     "start_time": "2019-04-07T06:59:21.941701Z"
    }
   },
   "outputs": [
    {
     "name": "stdout",
     "output_type": "stream",
     "text": [
      "Error => [5.9 3.2 4.8 1.8 1. ] Actual=> 1 Predict => 2\n",
      "Error => [6.  2.7 5.1 1.6 1. ] Actual=> 1 Predict => 2\n",
      "Error => [6.3 2.8 5.1 1.5 1. ] Actual=> 2 Predict => 1\n",
      "Accuracy 98.0\n"
     ]
    }
   ],
   "source": [
    "test()"
   ]
  }
 ],
 "metadata": {
  "kernelspec": {
   "display_name": "Python 3",
   "language": "python",
   "name": "python3"
  },
  "language_info": {
   "codemirror_mode": {
    "name": "ipython",
    "version": 3
   },
   "file_extension": ".py",
   "mimetype": "text/x-python",
   "name": "python",
   "nbconvert_exporter": "python",
   "pygments_lexer": "ipython3",
   "version": "3.6.8"
  }
 },
 "nbformat": 4,
 "nbformat_minor": 2
}
