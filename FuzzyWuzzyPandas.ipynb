{
 "cells": [
  {
   "cell_type": "code",
   "execution_count": 1,
   "metadata": {},
   "outputs": [
    {
     "name": "stderr",
     "output_type": "stream",
     "text": [
      "C:\\Users\\naman\\Anaconda3\\lib\\site-packages\\fuzzywuzzy\\fuzz.py:11: UserWarning: Using slow pure-python SequenceMatcher. Install python-Levenshtein to remove this warning\n",
      "  warnings.warn('Using slow pure-python SequenceMatcher. Install python-Levenshtein to remove this warning')\n"
     ]
    }
   ],
   "source": [
    "from fuzzywuzzy import fuzz\n",
    "import pandas as pd"
   ]
  },
  {
   "cell_type": "code",
   "execution_count": 2,
   "metadata": {},
   "outputs": [
    {
     "data": {
      "text/html": [
       "<div>\n",
       "<style scoped>\n",
       "    .dataframe tbody tr th:only-of-type {\n",
       "        vertical-align: middle;\n",
       "    }\n",
       "\n",
       "    .dataframe tbody tr th {\n",
       "        vertical-align: top;\n",
       "    }\n",
       "\n",
       "    .dataframe thead th {\n",
       "        text-align: right;\n",
       "    }\n",
       "</style>\n",
       "<table border=\"1\" class=\"dataframe\">\n",
       "  <thead>\n",
       "    <tr style=\"text-align: right;\">\n",
       "      <th></th>\n",
       "      <th>KeySource</th>\n",
       "      <th>ValueSource</th>\n",
       "      <th>FuzzyScore</th>\n",
       "    </tr>\n",
       "  </thead>\n",
       "  <tbody>\n",
       "    <tr>\n",
       "      <th>0</th>\n",
       "      <td>GENERAL MANAGER-METROPOLITAN TRANSIT AUTHORITY</td>\n",
       "      <td>167411.18</td>\n",
       "      <td>None</td>\n",
       "    </tr>\n",
       "    <tr>\n",
       "      <th>1</th>\n",
       "      <td>CAPTAIN III (POLICE DEPARTMENT)</td>\n",
       "      <td>155966.02</td>\n",
       "      <td>None</td>\n",
       "    </tr>\n",
       "    <tr>\n",
       "      <th>2</th>\n",
       "      <td>CAPTAIN III (POLICE DEPARTMENT)</td>\n",
       "      <td>212739.13</td>\n",
       "      <td>None</td>\n",
       "    </tr>\n",
       "    <tr>\n",
       "      <th>3</th>\n",
       "      <td>WIRE ROPE CABLE MAINTENANCE MECHANIC</td>\n",
       "      <td>77916.00</td>\n",
       "      <td>None</td>\n",
       "    </tr>\n",
       "  </tbody>\n",
       "</table>\n",
       "</div>"
      ],
      "text/plain": [
       "                                        KeySource  ValueSource FuzzyScore\n",
       "0  GENERAL MANAGER-METROPOLITAN TRANSIT AUTHORITY    167411.18       None\n",
       "1                 CAPTAIN III (POLICE DEPARTMENT)    155966.02       None\n",
       "2                 CAPTAIN III (POLICE DEPARTMENT)    212739.13       None\n",
       "3            WIRE ROPE CABLE MAINTENANCE MECHANIC     77916.00       None"
      ]
     },
     "execution_count": 2,
     "metadata": {},
     "output_type": "execute_result"
    }
   ],
   "source": [
    "original = pd.read_excel('FuzzyWuzzyTest.xlsx')[['KeySource', 'ValueSource']][:4]\n",
    "original['FuzzyScore'] = [None] * len(original)\n",
    "original"
   ]
  },
  {
   "cell_type": "code",
   "execution_count": 3,
   "metadata": {},
   "outputs": [
    {
     "data": {
      "text/html": [
       "<div>\n",
       "<style scoped>\n",
       "    .dataframe tbody tr th:only-of-type {\n",
       "        vertical-align: middle;\n",
       "    }\n",
       "\n",
       "    .dataframe tbody tr th {\n",
       "        vertical-align: top;\n",
       "    }\n",
       "\n",
       "    .dataframe thead th {\n",
       "        text-align: right;\n",
       "    }\n",
       "</style>\n",
       "<table border=\"1\" class=\"dataframe\">\n",
       "  <thead>\n",
       "    <tr style=\"text-align: right;\">\n",
       "      <th></th>\n",
       "      <th>KeyDestination</th>\n",
       "      <th>ValueDestination</th>\n",
       "    </tr>\n",
       "  </thead>\n",
       "  <tbody>\n",
       "    <tr>\n",
       "      <th>0</th>\n",
       "      <td>GENERAL MANAGER-METROPOLITAN TRANSIT AUTHORITY</td>\n",
       "      <td>NaN</td>\n",
       "    </tr>\n",
       "    <tr>\n",
       "      <th>1</th>\n",
       "      <td>CAPTAIN III (POLICE DEPARTMENT)</td>\n",
       "      <td>NaN</td>\n",
       "    </tr>\n",
       "    <tr>\n",
       "      <th>2</th>\n",
       "      <td>CAPTAIN III (POLICE DEPARTMENT)</td>\n",
       "      <td>NaN</td>\n",
       "    </tr>\n",
       "    <tr>\n",
       "      <th>3</th>\n",
       "      <td>WIRE ROPE CABLE MAINTENANCE MECHANIC</td>\n",
       "      <td>NaN</td>\n",
       "    </tr>\n",
       "    <tr>\n",
       "      <th>4</th>\n",
       "      <td>DEPUTY CHIEF OF DEPARTMENT,(FIRE DEPARTMENT)</td>\n",
       "      <td>NaN</td>\n",
       "    </tr>\n",
       "    <tr>\n",
       "      <th>5</th>\n",
       "      <td>ASSISTANT DEPUTY CHIEF II</td>\n",
       "      <td>NaN</td>\n",
       "    </tr>\n",
       "    <tr>\n",
       "      <th>6</th>\n",
       "      <td>BATTALION CHIEF, (FIRE DEPARTMENT)</td>\n",
       "      <td>NaN</td>\n",
       "    </tr>\n",
       "    <tr>\n",
       "      <th>7</th>\n",
       "      <td>DEPUTY DIRECTOR OF INVESTMENTS</td>\n",
       "      <td>NaN</td>\n",
       "    </tr>\n",
       "    <tr>\n",
       "      <th>8</th>\n",
       "      <td>BATTALION CHIEF, (FIRE DEPARTMENT)</td>\n",
       "      <td>NaN</td>\n",
       "    </tr>\n",
       "  </tbody>\n",
       "</table>\n",
       "</div>"
      ],
      "text/plain": [
       "                                   KeyDestination  ValueDestination\n",
       "0  GENERAL MANAGER-METROPOLITAN TRANSIT AUTHORITY               NaN\n",
       "1                 CAPTAIN III (POLICE DEPARTMENT)               NaN\n",
       "2                 CAPTAIN III (POLICE DEPARTMENT)               NaN\n",
       "3            WIRE ROPE CABLE MAINTENANCE MECHANIC               NaN\n",
       "4    DEPUTY CHIEF OF DEPARTMENT,(FIRE DEPARTMENT)               NaN\n",
       "5                       ASSISTANT DEPUTY CHIEF II               NaN\n",
       "6              BATTALION CHIEF, (FIRE DEPARTMENT)               NaN\n",
       "7                  DEPUTY DIRECTOR OF INVESTMENTS               NaN\n",
       "8              BATTALION CHIEF, (FIRE DEPARTMENT)               NaN"
      ]
     },
     "execution_count": 3,
     "metadata": {},
     "output_type": "execute_result"
    }
   ],
   "source": [
    "destination = pd.read_excel('FuzzyWuzzyTest.xlsx')[['KeyDestination', 'ValueDestination']]\n",
    "destination"
   ]
  },
  {
   "cell_type": "code",
   "execution_count": 4,
   "metadata": {},
   "outputs": [
    {
     "name": "stdout",
     "output_type": "stream",
     "text": [
      "GENERAL MANAGER-METROPOLITAN TRANSIT AUTHORITY GENERAL MANAGER-METROPOLITAN TRANSIT AUTHORITY 100\n",
      "GENERAL MANAGER-METROPOLITAN TRANSIT AUTHORITY CAPTAIN III (POLICE DEPARTMENT) 32\n",
      "GENERAL MANAGER-METROPOLITAN TRANSIT AUTHORITY CAPTAIN III (POLICE DEPARTMENT) 32\n",
      "GENERAL MANAGER-METROPOLITAN TRANSIT AUTHORITY WIRE ROPE CABLE MAINTENANCE MECHANIC 39\n",
      "--\n",
      "CAPTAIN III (POLICE DEPARTMENT) GENERAL MANAGER-METROPOLITAN TRANSIT AUTHORITY 32\n",
      "CAPTAIN III (POLICE DEPARTMENT) CAPTAIN III (POLICE DEPARTMENT) 100\n",
      "CAPTAIN III (POLICE DEPARTMENT) CAPTAIN III (POLICE DEPARTMENT) 100\n",
      "CAPTAIN III (POLICE DEPARTMENT) WIRE ROPE CABLE MAINTENANCE MECHANIC 37\n",
      "--\n",
      "CAPTAIN III (POLICE DEPARTMENT) GENERAL MANAGER-METROPOLITAN TRANSIT AUTHORITY 32\n",
      "CAPTAIN III (POLICE DEPARTMENT) CAPTAIN III (POLICE DEPARTMENT) 100\n",
      "CAPTAIN III (POLICE DEPARTMENT) CAPTAIN III (POLICE DEPARTMENT) 100\n",
      "CAPTAIN III (POLICE DEPARTMENT) WIRE ROPE CABLE MAINTENANCE MECHANIC 37\n",
      "--\n",
      "WIRE ROPE CABLE MAINTENANCE MECHANIC GENERAL MANAGER-METROPOLITAN TRANSIT AUTHORITY 39\n",
      "WIRE ROPE CABLE MAINTENANCE MECHANIC CAPTAIN III (POLICE DEPARTMENT) 31\n",
      "WIRE ROPE CABLE MAINTENANCE MECHANIC CAPTAIN III (POLICE DEPARTMENT) 31\n",
      "WIRE ROPE CABLE MAINTENANCE MECHANIC WIRE ROPE CABLE MAINTENANCE MECHANIC 100\n",
      "--\n",
      "DEPUTY CHIEF OF DEPARTMENT,(FIRE DEPARTMENT) GENERAL MANAGER-METROPOLITAN TRANSIT AUTHORITY 16\n",
      "DEPUTY CHIEF OF DEPARTMENT,(FIRE DEPARTMENT) CAPTAIN III (POLICE DEPARTMENT) 42\n",
      "DEPUTY CHIEF OF DEPARTMENT,(FIRE DEPARTMENT) CAPTAIN III (POLICE DEPARTMENT) 42\n",
      "DEPUTY CHIEF OF DEPARTMENT,(FIRE DEPARTMENT) WIRE ROPE CABLE MAINTENANCE MECHANIC 21\n",
      "--\n",
      "ASSISTANT DEPUTY CHIEF II GENERAL MANAGER-METROPOLITAN TRANSIT AUTHORITY 23\n",
      "ASSISTANT DEPUTY CHIEF II CAPTAIN III (POLICE DEPARTMENT) 44\n",
      "ASSISTANT DEPUTY CHIEF II CAPTAIN III (POLICE DEPARTMENT) 44\n",
      "ASSISTANT DEPUTY CHIEF II WIRE ROPE CABLE MAINTENANCE MECHANIC 39\n",
      "--\n",
      "BATTALION CHIEF, (FIRE DEPARTMENT) GENERAL MANAGER-METROPOLITAN TRANSIT AUTHORITY 21\n",
      "BATTALION CHIEF, (FIRE DEPARTMENT) CAPTAIN III (POLICE DEPARTMENT) 63\n",
      "BATTALION CHIEF, (FIRE DEPARTMENT) CAPTAIN III (POLICE DEPARTMENT) 63\n",
      "BATTALION CHIEF, (FIRE DEPARTMENT) WIRE ROPE CABLE MAINTENANCE MECHANIC 42\n",
      "--\n",
      "DEPUTY DIRECTOR OF INVESTMENTS GENERAL MANAGER-METROPOLITAN TRANSIT AUTHORITY 34\n",
      "DEPUTY DIRECTOR OF INVESTMENTS CAPTAIN III (POLICE DEPARTMENT) 37\n",
      "DEPUTY DIRECTOR OF INVESTMENTS CAPTAIN III (POLICE DEPARTMENT) 37\n",
      "DEPUTY DIRECTOR OF INVESTMENTS WIRE ROPE CABLE MAINTENANCE MECHANIC 18\n",
      "--\n",
      "BATTALION CHIEF, (FIRE DEPARTMENT) GENERAL MANAGER-METROPOLITAN TRANSIT AUTHORITY 21\n",
      "BATTALION CHIEF, (FIRE DEPARTMENT) CAPTAIN III (POLICE DEPARTMENT) 63\n",
      "BATTALION CHIEF, (FIRE DEPARTMENT) CAPTAIN III (POLICE DEPARTMENT) 63\n",
      "BATTALION CHIEF, (FIRE DEPARTMENT) WIRE ROPE CABLE MAINTENANCE MECHANIC 42\n",
      "--\n"
     ]
    },
    {
     "name": "stderr",
     "output_type": "stream",
     "text": [
      "C:\\Users\\naman\\Anaconda3\\lib\\site-packages\\ipykernel_launcher.py:10: SettingWithCopyWarning: \n",
      "A value is trying to be set on a copy of a slice from a DataFrame\n",
      "\n",
      "See the caveats in the documentation: http://pandas.pydata.org/pandas-docs/stable/user_guide/indexing.html#returning-a-view-versus-a-copy\n",
      "  # Remove the CWD from sys.path while we load stuff.\n"
     ]
    }
   ],
   "source": [
    "for one_index, one in enumerate(destination.itertuples()):\n",
    "    result = 0, None\n",
    "    for two_index, two in enumerate(original.itertuples()):\n",
    "        if result is None:\n",
    "            result = 0, two.ValueSource\n",
    "            destination['ValueDestination'][one_index] = two.ValueSource\n",
    "            \n",
    "        print(one.KeyDestination, two.KeySource, fuzz.token_sort_ratio(one.KeyDestination, f\"| {two.KeySource}\"))\n",
    "        score = fuzz.token_sort_ratio(one.KeyDestination, two.KeySource)\n",
    "        original['FuzzyScore'][two_index] = score\n",
    "        \n",
    "        if score > result[0]:\n",
    "            result = score, two.ValueSource\n",
    "        \n",
    "    destination['ValueDestination'] = result[1]\n",
    "        \n",
    "    print(\"--\")\n",
    "\n",
    "#     destination['ValueDestination'][one_index] = \n",
    "#     original.sort_values(by='FuzzyScore')\n"
   ]
  },
  {
   "cell_type": "code",
   "execution_count": 5,
   "metadata": {},
   "outputs": [
    {
     "data": {
      "text/html": [
       "<div>\n",
       "<style scoped>\n",
       "    .dataframe tbody tr th:only-of-type {\n",
       "        vertical-align: middle;\n",
       "    }\n",
       "\n",
       "    .dataframe tbody tr th {\n",
       "        vertical-align: top;\n",
       "    }\n",
       "\n",
       "    .dataframe thead th {\n",
       "        text-align: right;\n",
       "    }\n",
       "</style>\n",
       "<table border=\"1\" class=\"dataframe\">\n",
       "  <thead>\n",
       "    <tr style=\"text-align: right;\">\n",
       "      <th></th>\n",
       "      <th>KeySource</th>\n",
       "      <th>ValueSource</th>\n",
       "      <th>FuzzyScore</th>\n",
       "    </tr>\n",
       "  </thead>\n",
       "  <tbody>\n",
       "    <tr>\n",
       "      <th>0</th>\n",
       "      <td>GENERAL MANAGER-METROPOLITAN TRANSIT AUTHORITY</td>\n",
       "      <td>167411.18</td>\n",
       "      <td>21</td>\n",
       "    </tr>\n",
       "    <tr>\n",
       "      <th>1</th>\n",
       "      <td>CAPTAIN III (POLICE DEPARTMENT)</td>\n",
       "      <td>155966.02</td>\n",
       "      <td>63</td>\n",
       "    </tr>\n",
       "    <tr>\n",
       "      <th>2</th>\n",
       "      <td>CAPTAIN III (POLICE DEPARTMENT)</td>\n",
       "      <td>212739.13</td>\n",
       "      <td>63</td>\n",
       "    </tr>\n",
       "    <tr>\n",
       "      <th>3</th>\n",
       "      <td>WIRE ROPE CABLE MAINTENANCE MECHANIC</td>\n",
       "      <td>77916.00</td>\n",
       "      <td>42</td>\n",
       "    </tr>\n",
       "  </tbody>\n",
       "</table>\n",
       "</div>"
      ],
      "text/plain": [
       "                                        KeySource  ValueSource FuzzyScore\n",
       "0  GENERAL MANAGER-METROPOLITAN TRANSIT AUTHORITY    167411.18         21\n",
       "1                 CAPTAIN III (POLICE DEPARTMENT)    155966.02         63\n",
       "2                 CAPTAIN III (POLICE DEPARTMENT)    212739.13         63\n",
       "3            WIRE ROPE CABLE MAINTENANCE MECHANIC     77916.00         42"
      ]
     },
     "execution_count": 5,
     "metadata": {},
     "output_type": "execute_result"
    }
   ],
   "source": [
    "original"
   ]
  },
  {
   "cell_type": "code",
   "execution_count": 6,
   "metadata": {},
   "outputs": [
    {
     "data": {
      "text/html": [
       "<div>\n",
       "<style scoped>\n",
       "    .dataframe tbody tr th:only-of-type {\n",
       "        vertical-align: middle;\n",
       "    }\n",
       "\n",
       "    .dataframe tbody tr th {\n",
       "        vertical-align: top;\n",
       "    }\n",
       "\n",
       "    .dataframe thead th {\n",
       "        text-align: right;\n",
       "    }\n",
       "</style>\n",
       "<table border=\"1\" class=\"dataframe\">\n",
       "  <thead>\n",
       "    <tr style=\"text-align: right;\">\n",
       "      <th></th>\n",
       "      <th>KeyDestination</th>\n",
       "      <th>ValueDestination</th>\n",
       "    </tr>\n",
       "  </thead>\n",
       "  <tbody>\n",
       "    <tr>\n",
       "      <th>0</th>\n",
       "      <td>GENERAL MANAGER-METROPOLITAN TRANSIT AUTHORITY</td>\n",
       "      <td>155966.02</td>\n",
       "    </tr>\n",
       "    <tr>\n",
       "      <th>1</th>\n",
       "      <td>CAPTAIN III (POLICE DEPARTMENT)</td>\n",
       "      <td>155966.02</td>\n",
       "    </tr>\n",
       "    <tr>\n",
       "      <th>2</th>\n",
       "      <td>CAPTAIN III (POLICE DEPARTMENT)</td>\n",
       "      <td>155966.02</td>\n",
       "    </tr>\n",
       "    <tr>\n",
       "      <th>3</th>\n",
       "      <td>WIRE ROPE CABLE MAINTENANCE MECHANIC</td>\n",
       "      <td>155966.02</td>\n",
       "    </tr>\n",
       "    <tr>\n",
       "      <th>4</th>\n",
       "      <td>DEPUTY CHIEF OF DEPARTMENT,(FIRE DEPARTMENT)</td>\n",
       "      <td>155966.02</td>\n",
       "    </tr>\n",
       "    <tr>\n",
       "      <th>5</th>\n",
       "      <td>ASSISTANT DEPUTY CHIEF II</td>\n",
       "      <td>155966.02</td>\n",
       "    </tr>\n",
       "    <tr>\n",
       "      <th>6</th>\n",
       "      <td>BATTALION CHIEF, (FIRE DEPARTMENT)</td>\n",
       "      <td>155966.02</td>\n",
       "    </tr>\n",
       "    <tr>\n",
       "      <th>7</th>\n",
       "      <td>DEPUTY DIRECTOR OF INVESTMENTS</td>\n",
       "      <td>155966.02</td>\n",
       "    </tr>\n",
       "    <tr>\n",
       "      <th>8</th>\n",
       "      <td>BATTALION CHIEF, (FIRE DEPARTMENT)</td>\n",
       "      <td>155966.02</td>\n",
       "    </tr>\n",
       "  </tbody>\n",
       "</table>\n",
       "</div>"
      ],
      "text/plain": [
       "                                   KeyDestination  ValueDestination\n",
       "0  GENERAL MANAGER-METROPOLITAN TRANSIT AUTHORITY         155966.02\n",
       "1                 CAPTAIN III (POLICE DEPARTMENT)         155966.02\n",
       "2                 CAPTAIN III (POLICE DEPARTMENT)         155966.02\n",
       "3            WIRE ROPE CABLE MAINTENANCE MECHANIC         155966.02\n",
       "4    DEPUTY CHIEF OF DEPARTMENT,(FIRE DEPARTMENT)         155966.02\n",
       "5                       ASSISTANT DEPUTY CHIEF II         155966.02\n",
       "6              BATTALION CHIEF, (FIRE DEPARTMENT)         155966.02\n",
       "7                  DEPUTY DIRECTOR OF INVESTMENTS         155966.02\n",
       "8              BATTALION CHIEF, (FIRE DEPARTMENT)         155966.02"
      ]
     },
     "execution_count": 6,
     "metadata": {},
     "output_type": "execute_result"
    }
   ],
   "source": [
    "destination"
   ]
  },
  {
   "cell_type": "code",
   "execution_count": null,
   "metadata": {},
   "outputs": [],
   "source": []
  },
  {
   "cell_type": "code",
   "execution_count": null,
   "metadata": {},
   "outputs": [],
   "source": []
  }
 ],
 "metadata": {
  "kernelspec": {
   "display_name": "Python 3",
   "language": "python",
   "name": "python3"
  },
  "language_info": {
   "codemirror_mode": {
    "name": "ipython",
    "version": 3
   },
   "file_extension": ".py",
   "mimetype": "text/x-python",
   "name": "python",
   "nbconvert_exporter": "python",
   "pygments_lexer": "ipython3",
   "version": "3.7.4"
  },
  "varInspector": {
   "cols": {
    "lenName": 16,
    "lenType": 16,
    "lenVar": 40
   },
   "kernels_config": {
    "python": {
     "delete_cmd_postfix": "",
     "delete_cmd_prefix": "del ",
     "library": "var_list.py",
     "varRefreshCmd": "print(var_dic_list())"
    },
    "r": {
     "delete_cmd_postfix": ") ",
     "delete_cmd_prefix": "rm(",
     "library": "var_list.r",
     "varRefreshCmd": "cat(var_dic_list()) "
    }
   },
   "types_to_exclude": [
    "module",
    "function",
    "builtin_function_or_method",
    "instance",
    "_Feature"
   ],
   "window_display": false
  }
 },
 "nbformat": 4,
 "nbformat_minor": 2
}
